{
 "metadata": {
  "name": "",
  "signature": "sha256:42efdc83266a0953ab864c199eaa7d8d6bb3fa36dd214380e0e54a04e0bcb660"
 },
 "nbformat": 3,
 "nbformat_minor": 0,
 "worksheets": [
  {
   "cells": [
    {
     "cell_type": "code",
     "collapsed": false,
     "input": [
      "%matplotlib inline\n",
      "from dpll_eqnet import DPLL, EqnetDPLL, RandomClauseDPLL, RandomVarDPLL\n",
      "from dpll import get_random_ksat\n",
      "from eqnet_format import mean, stdev\n",
      "from matplotlib import pyplot as plt"
     ],
     "language": "python",
     "metadata": {},
     "outputs": [],
     "prompt_number": 16
    },
    {
     "cell_type": "code",
     "collapsed": false,
     "input": [
      "def compute_steps(sats, dpll_cls):\n",
      "    steps = []\n",
      "    for sat in sats:\n",
      "        dpll = dpll_cls()\n",
      "        res = dpll.run(sat)\n",
      "        assert res is not None\n",
      "        steps.append(dpll.number_of_runs)\n",
      "    return steps"
     ],
     "language": "python",
     "metadata": {},
     "outputs": [],
     "prompt_number": 17
    },
    {
     "cell_type": "code",
     "collapsed": false,
     "input": [
      "S = 10000\n",
      "MAX_TRIES = 100000\n",
      "K = 2\n",
      "N = 3\n",
      "M = 3\n",
      "sats = []\n",
      "for index in range(MAX_TRIES):\n",
      "    if len(sats) >= S:\n",
      "        break\n",
      "    sat = get_random_ksat(K, N, M)\n",
      "    if DPLL().run(sat) is not None:\n",
      "        sats.append(sat)\n",
      "assert len(sats) == S\n",
      "print(\"SATs in here:\", len(sats))\n",
      "for sat in sats[:3]:\n",
      "    print(sat)"
     ],
     "language": "python",
     "metadata": {},
     "outputs": [
      {
       "output_type": "stream",
       "stream": "stdout",
       "text": [
        "SATs in here: 10000\n",
        "???:[{1, 3}, {-3, -1}, {2, -2}]\n",
        "???:[{2, -3}, {1, 2}, {-3}]\n",
        "???:[{3, -2}, {1, -3}, {3, -3}]\n"
       ]
      }
     ],
     "prompt_number": 39
    },
    {
     "cell_type": "code",
     "collapsed": false,
     "input": [
      "def compute_and_print_steps(sats, dpll_cls):\n",
      "    steps = compute_steps(sats, dpll_cls)\n",
      "    print(\"#Sats: {}; avg step: {}; stdev step: {}\".format(\n",
      "        len(steps), mean(steps), stdev(steps)))\n",
      "    plt.title(\"Steps of {}\".format(dpll_cls.__name__))\n",
      "    plt.hist(steps, bins=range(2**(N+1)))\n",
      "    plt.show()"
     ],
     "language": "python",
     "metadata": {},
     "outputs": [],
     "prompt_number": 40
    },
    {
     "cell_type": "code",
     "collapsed": false,
     "input": [
      "compute_and_print_steps(sats, DPLL)"
     ],
     "language": "python",
     "metadata": {},
     "outputs": [
      {
       "output_type": "stream",
       "stream": "stdout",
       "text": [
        "#Sats: 10000; avg step: 4.0731; stdev step: 1.1276330919230764\n"
       ]
      },
      {
       "metadata": {},
       "output_type": "display_data",
       "png": "[encoded data removed]",
       "text": [
        "<matplotlib.figure.Figure at 0x7fb33273a128>"
       ]
      }
     ],
     "prompt_number": 41
    },
    {
     "cell_type": "code",
     "collapsed": false,
     "input": [
      "compute_and_print_steps(sats, RandomVarDPLL)"
     ],
     "language": "python",
     "metadata": {},
     "outputs": [
      {
       "output_type": "stream",
       "stream": "stdout",
       "text": [
        "#Sats: 10000; avg step: 4.3155; stdev step: 1.4315585038691214\n"
       ]
      },
      {
       "metadata": {},
       "output_type": "display_data",
       "png": "[encoded data removed]",
       "text": [
        "<matplotlib.figure.Figure at 0x7fb3326f9b70>"
       ]
      }
     ],
     "prompt_number": 42
    },
    {
     "cell_type": "code",
     "collapsed": false,
     "input": [
      "compute_and_print_steps(sats, RandomClauseDPLL)"
     ],
     "language": "python",
     "metadata": {},
     "outputs": [
      {
       "output_type": "stream",
       "stream": "stdout",
       "text": [
        "#Sats: 10000; avg step: 3.2884; stdev step: 0.7774480304174667\n"
       ]
      },
      {
       "metadata": {},
       "output_type": "display_data",
       "png": "[encoded data removed]",
       "text": [
        "<matplotlib.figure.Figure at 0x7fb31924b6a0>"
       ]
      }
     ],
     "prompt_number": 43
    }
   ],
   "metadata": {}
  }
 ]
}